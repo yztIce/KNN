{
 "cells": [
  {
   "cell_type": "code",
   "execution_count": 5,
   "metadata": {},
   "outputs": [
    {
     "data": {
      "text/plain": [
       "matrix([[ 0.00000000e+00,  0.00000000e+00,  2.22044605e-16,\n",
       "          0.00000000e+00],\n",
       "        [ 0.00000000e+00, -2.22044605e-16,  0.00000000e+00,\n",
       "          6.66133815e-16],\n",
       "        [ 0.00000000e+00,  0.00000000e+00,  0.00000000e+00,\n",
       "          0.00000000e+00],\n",
       "        [ 2.22044605e-16, -5.55111512e-17,  1.11022302e-16,\n",
       "         -1.11022302e-16]])"
      ]
     },
     "execution_count": 5,
     "metadata": {},
     "output_type": "execute_result"
    }
   ],
   "source": [
    "from numpy import *\n",
    "randMat=mat(random.rand(4,4))\n",
    "invrandMat=randMat.I#逆运算\n",
    "myEye=randMat*invrandMat#逆矩阵与原始矩阵相乘，得到单位矩阵\n",
    "myEye-eye(4)#差值"
   ]
  },
  {
   "cell_type": "code",
   "execution_count": null,
   "metadata": {},
   "outputs": [],
   "source": [
    "#KNN\n"
   ]
  },
  {
   "cell_type": "code",
   "execution_count": 52,
   "metadata": {},
   "outputs": [],
   "source": [
    "import numpy as np\n",
    "import matplotlib.pyplot as plt\n",
    "#inx      测试样本数据\n",
    "#dataSet  训练样本数据\n",
    "#labels   测试样本标签\n",
    "#k        选取距离最近的k个点\n",
    "def classify0(inx, dataSet, labels, k):\n",
    "    #获取训练数据集的行数\n",
    "    dataSetSize=dataSet.shape[0]\n",
    "    #欧氏距离计算\n",
    "    #各个函数均使用矩阵形式保存\n",
    "    #tile():inx沿各个维度的复制次数\n",
    "    diffMat=tile(inx, (dataSetSize, 1))-dataSet\n",
    "    sqDiffMat=diffMat**2\n",
    "    #.sum()运行加函数，参数axis=1表示矩阵每一行的各个值加和\n",
    "    sqDistances=sqDiffMat.sum(axis=1)\n",
    "    distances=sqDistances**0.5\n",
    "    #获取排序（有小到大）后的距离值的索引序号\n",
    "    sortedDistIndicies=distances.argsort()\n",
    "    #字典，键值对，结构类似于hash表\n",
    "    classCount={}\n",
    "    for i in range(k):\n",
    "        voteIlabel=labels[sortedDistIndicies[i]]\n",
    "        classCount[voteIlabel]=classCount.get(voteIlabel, 0)+1\n",
    "    sortedClassCount=sorted(classCount.items(),\n",
    "                           key=operator.itemgetter(1), reverse=True)\n",
    "    return sortedClassCount[0][0] #返回第一个元素（即出现次数最多的）标签key"
   ]
  },
  {
   "cell_type": "code",
   "execution_count": 53,
   "metadata": {},
   "outputs": [],
   "source": [
    "#代数运算\n",
    "def classify_two(inX, dataSet, labels, k):\n",
    "    m, n = dataSet.shape   # shape（m, n）m列n个特征\n",
    "    # 计算测试数据到每个点的欧式距离\n",
    "    distances = []\n",
    "    for i in range(m):\n",
    "        sum = 0\n",
    "        for j in range(n):\n",
    "            sum += (inX[j] - dataSet[i][j]) ** 2\n",
    "        distances.append(sum ** 0.5)\n",
    "\n",
    "    sortDist = sorted(distances)\n",
    "\n",
    "    # k 个最近的值所属的类别\n",
    "    classCount = {}\n",
    "    for i in range(k):\n",
    "        voteLabel = labels[ distances.index(sortDist[i])]\n",
    "        classCount[voteLabel] = classCount.get(voteLabel, 0) + 1 # 0:map default\n",
    "    sortedClass = sorted(classCount.items(), key=lambda d:d[1], reverse=True)\n",
    "    return sortedClass[0][0]"
   ]
  },
  {
   "cell_type": "code",
   "execution_count": 54,
   "metadata": {},
   "outputs": [],
   "source": [
    "#operator 是运算符模块\n",
    "import operator\n",
    "def createDataSet():\n",
    "    group=array([[1.0,1.1], [1.0,1.0], [0,0], [0,0.1]])\n",
    "    labels=['A', 'A', 'B', 'B']\n",
    "    return group, labels"
   ]
  },
  {
   "cell_type": "code",
   "execution_count": 55,
   "metadata": {},
   "outputs": [
    {
     "name": "stdout",
     "output_type": "stream",
     "text": [
      "B\n"
     ]
    }
   ],
   "source": [
    "if __name__=='__main__':\n",
    "    dataSet, labels=createDataSet()\n",
    "    r=classify_two([0,0.2], dataSet, labels, 3)\n",
    "    print r"
   ]
  },
  {
   "cell_type": "code",
   "execution_count": 56,
   "metadata": {},
   "outputs": [],
   "source": [
    "# 文本转换成numpy\n",
    "def file2matrix(filepath=\"dataset.txt\"):\n",
    "    dataSet = np.loadtxt(filepath)\n",
    "    returnMat = dataSet[:, 0:-1]\n",
    "    classlabelVector = dataSet[:, -1:]\n",
    "    return returnMat, classlabelVector"
   ]
  },
  {
   "cell_type": "code",
   "execution_count": 57,
   "metadata": {},
   "outputs": [],
   "source": [
    "#文本转换成Numpy的解析程序\n",
    "def file2matrix(filepath=\"C:\\Users\\GAOBING\\Desktop\\dataset.txt\"):\n",
    "    fr=open(filepath)\n",
    "    arrayOLines=fr.readlines()\n",
    "    numberOfLines=len(arrayOLines)\n",
    "    returnMat=zeros((numberOfLines, 3))\n",
    "    classLabelVector=[]\n",
    "    index=0\n",
    "    for line in arrayOLines:\n",
    "        line=line.strip()\n",
    "        listFromLine=line.split('\\t')\n",
    "        returnMat[index, :]=listFromLine[:3]\n",
    "        classLabelVector.append(int(listFromLine[-1]))\n",
    "        index+=1\n",
    "    return returnMat, classLabelVector"
   ]
  },
  {
   "cell_type": "code",
   "execution_count": 58,
   "metadata": {},
   "outputs": [],
   "source": [
    "def show_2_3_fig():\n",
    "    data, cls=file2matrix()\n",
    "    fig=plt.figure()\n",
    "    ax=fig.add_subplot(111)\n",
    "    ax.scatter(data[:,1], data[:,2])\n",
    "    plt.xlabel(\"playing game\")\n",
    "    plt.ylabel(\"Icm Cream\")\n",
    "    plt.show()\n",
    "    "
   ]
  },
  {
   "cell_type": "code",
   "execution_count": 59,
   "metadata": {},
   "outputs": [],
   "source": [
    "def show_1_2_fig():\n",
    "    data, cls=file2matrix()\n",
    "    fig=plt.figure()\n",
    "    ax=fig.add_subplot(111)\n",
    "    ax.scatter(data[:,0], data[:,1])\n",
    "    plt.xlabel(\"playing game\")\n",
    "    plt.ylabel(\"Icm Cream\")\n",
    "    plt.show()"
   ]
  },
  {
   "cell_type": "code",
   "execution_count": 60,
   "metadata": {},
   "outputs": [],
   "source": [
    "def show_1_3_fig():\n",
    "    data, cls=file2matrix()\n",
    "    fig=plt.figure()\n",
    "    ax=fig.add_subplot(111)\n",
    "    ax.scatter(data[:,0], data[:,2])\n",
    "    plt.xlabel(\"playing game\")\n",
    "    plt.ylabel(\"Icm Cream\")\n",
    "    plt.show()"
   ]
  },
  {
   "cell_type": "code",
   "execution_count": 61,
   "metadata": {},
   "outputs": [],
   "source": [
    "#数据归一化\n",
    "def autoNorm(dataSet):\n",
    "    minVal=dataSet.min(0)#每列最小值（1*3）\n",
    "    maxVal=dataSet.max(0)#每列最大值（1*3）\n",
    "    ranges=maxVal-minVal#最大值与最小值之差，（1*3）\n",
    "    \n",
    "    normDataSet=np.zeros(dataSet.shape)#产生和dataSet一样的0矩阵\n",
    "    m, n=dataSet.shape#m行，n个特征 \n",
    "    normDataSet=dataSet-tile(minVal, (m,1))#因为minVal只有一行，我们将其复制成m行\n",
    "    normDataSet=normDataSet/tile(ranges, (m,1))\n",
    "    return normDataSet, ranges, minVal"
   ]
  },
  {
   "cell_type": "code",
   "execution_count": null,
   "metadata": {},
   "outputs": [],
   "source": []
  },
  {
   "cell_type": "code",
   "execution_count": 68,
   "metadata": {},
   "outputs": [],
   "source": [
    "# 定义测试算法的函数\n",
    "def classifypersion(h=0.15):\n",
    "    hoRatio = h\n",
    "    datingDataMat, datingLabels = file2matrix()\n",
    "    normMat, ranges, minVals = autoNorm(datingDataMat)\n",
    "    m, n = normMat.shape\n",
    "    numTestVecs = int(m * hoRatio)  #测试数据行数\n",
    "    errorCount = 0  # 错误分类数\n",
    "\n",
    "\n",
    "    # 用前10%的数据做测试\n",
    "    for i in range(numTestVecs):\n",
    "        classifierResult = classify0(normMat[i, :], normMat[numTestVecs:m, :], datingLabels[numTestVecs:m],  3)\n",
    "        # print('the classifier came back with: %d,the real answer is: %d' % (int(classifierResult), int(datingLabels[i])))\n",
    "        if classifierResult != datingLabels[i]:\n",
    "            errorCount += 1\n",
    "    print(\"the total error rate is: %f\" % (errorCount / float(numTestVecs)))"
   ]
  },
  {
   "cell_type": "code",
   "execution_count": 70,
   "metadata": {},
   "outputs": [
    {
     "name": "stdout",
     "output_type": "stream",
     "text": [
      "the total error rate is: 0.066667\n"
     ]
    },
    {
     "data": {
      "image/png": "[encoded data removed]",
      "text/plain": [
       "<matplotlib.figure.Figure at 0x63b27b8>"
      ]
     },
     "metadata": {},
     "output_type": "display_data"
    }
   ],
   "source": [
    "if __name__ == '__main__':\n",
    "    # data, cls = file2matrix()\n",
    "    # autoNorm(data)\n",
    "    # datingClassTest()\n",
    "    classifypersion()\n",
    "    #show_1_2_fig()"
   ]
  },
  {
   "cell_type": "code",
   "execution_count": null,
   "metadata": {},
   "outputs": [],
   "source": []
  }
 ],
 "metadata": {
  "kernelspec": {
   "display_name": "Python 2",
   "language": "python",
   "name": "python2"
  },
  "language_info": {
   "codemirror_mode": {
    "name": "ipython",
    "version": 2
   },
   "file_extension": ".py",
   "mimetype": "text/x-python",
   "name": "python",
   "nbconvert_exporter": "python",
   "pygments_lexer": "ipython2",
   "version": "2.7.14"
  }
 },
 "nbformat": 4,
 "nbformat_minor": 2
}
